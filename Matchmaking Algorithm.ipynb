{
 "cells": [
  {
   "cell_type": "code",
   "execution_count": null,
   "metadata": {
    "collapsed": true
   },
   "outputs": [],
   "source": [
    "# Goal: write a few pairing algorithms and test\n",
    "\n",
    "# Need:\n",
    "#     - Dataset\n",
    "#     - Way of tracking previous pairs\n",
    "#     - Repeatable system for testing new algorithms\n",
    "\n",
    "# Assumptions:\n",
    "#     - No one added or removed"
   ]
  },
  {
   "cell_type": "code",
   "execution_count": 2,
   "metadata": {
    "collapsed": false
   },
   "outputs": [],
   "source": [
    "import random"
   ]
  },
  {
   "cell_type": "code",
   "execution_count": null,
   "metadata": {
    "collapsed": true
   },
   "outputs": [],
   "source": [
    "# Algorithm:\n",
    "#     Assign all active users to buckets of 2 - random_matcher()\n",
    "#     Check score.\n",
    "#         If score = 0/1, stop\n",
    "#         If score < current best score, save results\n",
    "#     Run x-iterations and choose lowest score\n",
    "#     After finished, update user_history"
   ]
  },
  {
   "cell_type": "code",
   "execution_count": 9,
   "metadata": {
    "collapsed": false
   },
   "outputs": [
    {
     "name": "stdout",
     "output_type": "stream",
     "text": [
      "Matches: [[20, 27], [3, 6], [11, 10], [14, 25], [18, 26], [4, 13], [22, 2], [23, 15], [0, 1], [9, 12], [29, 8], [7, 16], [24, 17], [5, 21], [19, 28]]\n",
      "Unmatched users: []\n"
     ]
    }
   ],
   "source": [
    "def random_matcher(users):\n",
    "    \"\"\"Randomly assign pairs of users.\n",
    "    \n",
    "    Returns a tuple:\n",
    "        - a list of lists, representing user-pairings\n",
    "        - a list of unpaired users.\"\"\"\n",
    "    \n",
    "    user_options = set(users)\n",
    "    matches = []\n",
    "    while len(user_options) >= 2:\n",
    "        new_pair = random.sample(user_options, 2)\n",
    "        matches.append(new_pair)\n",
    "        user_options = user_options - set(new_pair)\n",
    "#     print(matches)\n",
    "#     print('Remainder: {}'.format(list(user_options)))\n",
    "    return matches, list(user_options)"
   ]
  },
  {
   "cell_type": "code",
   "execution_count": 20,
   "metadata": {
    "collapsed": true
   },
   "outputs": [],
   "source": [
    "def find_repeat_pairs(matches, user_history):\n",
    "    \"\"\"Finds pairs that have been previously matched.\n",
    "    \n",
    "    Returns a list of lists (representing user-pairings) that have already been matched\"\"\"\n",
    "\n",
    "    rematched = []\n",
    "    \n",
    "    for match in matches:\n",
    "        if match[0] in user_history[match[1]]:\n",
    "            rematched.append(match)\n",
    "\n",
    "    return rematched"
   ]
  },
  {
   "cell_type": "code",
   "execution_count": 29,
   "metadata": {
    "collapsed": false
   },
   "outputs": [],
   "source": [
    "def matching_algorithm(users, user_history, num_iters=100):\n",
    "    # Initialize score\n",
    "    score = len(users)\n",
    "    current_score = len(users)\n",
    "\n",
    "    # Initialize matches\n",
    "    matches = []\n",
    "    unmatched = []\n",
    "    \n",
    "    for i in range(num_iters):\n",
    "        print('\\nIteration: {}'.format(i))\n",
    "        current_matches, current_unmatched = random_matcher(users)\n",
    "\n",
    "        current_score = len(current_unmatched) + 2 * len(find_repeat_pairs(current_matches, user_history))\n",
    "        print('Current score: {}'.format(current_score))\n",
    "        print('Current matched: {}'.format(current_matches))\n",
    "        print('Current unmatched: {}'.format(current_unmatched))\n",
    "        if current_score < score:\n",
    "            print('Beat previous iteration! Updating score...')\n",
    "            matches = current_matches\n",
    "            unmatched = current_unmatched\n",
    "            score = current_score\n",
    "            \n",
    "        if score <= 1:\n",
    "            break\n",
    "    \n",
    "    # Update history\n",
    "    for match in matches:\n",
    "        user_history[match[0]].add(match[1])\n",
    "        user_history[match[1]].add(match[0])\n",
    "        \n",
    "    return matches, unmatched, score"
   ]
  },
  {
   "cell_type": "code",
   "execution_count": 26,
   "metadata": {
    "collapsed": false
   },
   "outputs": [
    {
     "name": "stdout",
     "output_type": "stream",
     "text": [
      "{0: set(), 1: set(), 2: set(), 3: set(), 4: set(), 5: set(), 6: set(), 7: set(), 8: set(), 9: set(), 10: set(), 11: set(), 12: set(), 13: set(), 14: set(), 15: set(), 16: set(), 17: set(), 18: set(), 19: set(), 20: set(), 21: set(), 22: set(), 23: set(), 24: set(), 25: set(), 26: set(), 27: set(), 28: set(), 29: set()}\n"
     ]
    }
   ],
   "source": [
    "num_users = 30\n",
    "users = list(range(num_users))\n",
    "user_history = {\n",
    "    u: set([]) for u in users\n",
    "}\n",
    "print(user_history)"
   ]
  },
  {
   "cell_type": "code",
   "execution_count": 24,
   "metadata": {
    "collapsed": false,
    "scrolled": true
   },
   "outputs": [
    {
     "name": "stdout",
     "output_type": "stream",
     "text": [
      "\n",
      "Iteration: 0\n",
      "Current score: 0\n",
      "Current matched: [[23, 5], [17, 21], [4, 13], [22, 12], [19, 7], [10, 16], [14, 29], [28, 26], [18, 3], [1, 11], [27, 15], [8, 9], [0, 20], [24, 2], [6, 25]]\n",
      "Current unmatched: []\n",
      "Beat previous iteration! Updating score...\n",
      "\n",
      "\n",
      "RESULTS\n",
      "Score: 0\n",
      "Matches: [[23, 5], [17, 21], [4, 13], [22, 12], [19, 7], [10, 16], [14, 29], [28, 26], [18, 3], [1, 11], [27, 15], [8, 9], [0, 20], [24, 2], [6, 25]]\n",
      "Unmatched users: []\n"
     ]
    }
   ],
   "source": [
    "matches, unmatched, score = matching_algorithm(users, user_history)\n",
    "print('\\n\\nRESULTS')\n",
    "print('Score: {}'.format(score))\n",
    "print('Matches: {}'.format(matches))\n",
    "print('Unmatched users: {}'.format(unmatched))"
   ]
  },
  {
   "cell_type": "code",
   "execution_count": 30,
   "metadata": {
    "collapsed": false
   },
   "outputs": [
    {
     "name": "stdout",
     "output_type": "stream",
     "text": [
      "\n",
      "\n",
      "\n",
      "Day: 0\n",
      "\n",
      "Iteration: 0\n",
      "Current score: 0\n",
      "Current matched: [[1, 0], [23, 21], [28, 22], [26, 15], [25, 19], [27, 11], [4, 7], [16, 8], [14, 3], [12, 10], [6, 24], [9, 17], [20, 2], [13, 18], [29, 5]]\n",
      "Current unmatched: []\n",
      "Beat previous iteration! Updating score...\n",
      "\n",
      "\n",
      "RESULTS\n",
      "Score: 0\n",
      "Matches: [[1, 0], [23, 21], [28, 22], [26, 15], [25, 19], [27, 11], [4, 7], [16, 8], [14, 3], [12, 10], [6, 24], [9, 17], [20, 2], [13, 18], [29, 5]]\n",
      "Unmatched users: []\n",
      "\n",
      "\n",
      "\n",
      "Day: 1\n",
      "\n",
      "Iteration: 0\n",
      "Current score: 0\n",
      "Current matched: [[6, 12], [11, 25], [7, 26], [21, 20], [13, 22], [28, 2], [27, 15], [14, 23], [18, 16], [29, 9], [17, 10], [8, 4], [1, 24], [5, 3], [19, 0]]\n",
      "Current unmatched: []\n",
      "Beat previous iteration! Updating score...\n",
      "\n",
      "\n",
      "RESULTS\n",
      "Score: 0\n",
      "Matches: [[6, 12], [11, 25], [7, 26], [21, 20], [13, 22], [28, 2], [27, 15], [14, 23], [18, 16], [29, 9], [17, 10], [8, 4], [1, 24], [5, 3], [19, 0]]\n",
      "Unmatched users: []\n",
      "\n",
      "\n",
      "\n",
      "Day: 2\n",
      "\n",
      "Iteration: 0\n",
      "Current score: 0\n",
      "Current matched: [[9, 20], [8, 0], [24, 21], [14, 4], [15, 12], [17, 13], [16, 22], [26, 25], [18, 28], [11, 19], [1, 10], [29, 3], [23, 7], [27, 6], [2, 5]]\n",
      "Current unmatched: []\n",
      "Beat previous iteration! Updating score...\n",
      "\n",
      "\n",
      "RESULTS\n",
      "Score: 0\n",
      "Matches: [[9, 20], [8, 0], [24, 21], [14, 4], [15, 12], [17, 13], [16, 22], [26, 25], [18, 28], [11, 19], [1, 10], [29, 3], [23, 7], [27, 6], [2, 5]]\n",
      "Unmatched users: []\n",
      "\n",
      "\n",
      "\n",
      "Day: 3\n",
      "\n",
      "Iteration: 0\n",
      "Current score: 0\n",
      "Current matched: [[7, 20], [15, 18], [11, 27], [23, 13], [6, 29], [5, 8], [0, 12], [24, 4], [21, 26], [3, 10], [9, 2], [17, 19], [28, 1], [25, 14], [22, 16]]\n",
      "Current unmatched: []\n",
      "Beat previous iteration! Updating score...\n",
      "\n",
      "\n",
      "RESULTS\n",
      "Score: 0\n",
      "Matches: [[7, 20], [15, 18], [11, 27], [23, 13], [6, 29], [5, 8], [0, 12], [24, 4], [21, 26], [3, 10], [9, 2], [17, 19], [28, 1], [25, 14], [22, 16]]\n",
      "Unmatched users: []\n",
      "\n",
      "\n",
      "\n",
      "Day: 4\n",
      "\n",
      "Iteration: 0\n",
      "Current score: 0\n",
      "Current matched: [[0, 13], [20, 9], [17, 25], [23, 8], [5, 12], [27, 11], [28, 26], [19, 24], [16, 18], [21, 7], [22, 15], [6, 14], [10, 1], [29, 3], [4, 2]]\n",
      "Current unmatched: []\n",
      "Beat previous iteration! Updating score...\n",
      "\n",
      "\n",
      "RESULTS\n",
      "Score: 0\n",
      "Matches: [[0, 13], [20, 9], [17, 25], [23, 8], [5, 12], [27, 11], [28, 26], [19, 24], [16, 18], [21, 7], [22, 15], [6, 14], [10, 1], [29, 3], [4, 2]]\n",
      "Unmatched users: []\n"
     ]
    }
   ],
   "source": [
    "num_days = 20\n",
    "for i in range(num_days):\n",
    "    print('\\n\\n\\nDay: {}'.format(i))\n",
    "    matches, unmatched, score = matching_algorithm(users, user_history)\n",
    "    print('\\n\\nRESULTS')\n",
    "    print('Score: {}'.format(score))\n",
    "    print('Matches: {}'.format(matches))\n",
    "    print('Unmatched users: {}'.format(unmatched))"
   ]
  },
  {
   "cell_type": "code",
   "execution_count": null,
   "metadata": {
    "collapsed": true
   },
   "outputs": [],
   "source": []
  }
 ],
 "metadata": {
  "kernelspec": {
   "display_name": "Python 3",
   "language": "python",
   "name": "python3"
  },
  "language_info": {
   "codemirror_mode": {
    "name": "ipython",
    "version": 3
   },
   "file_extension": ".py",
   "mimetype": "text/x-python",
   "name": "python",
   "nbconvert_exporter": "python",
   "pygments_lexer": "ipython3",
   "version": "3.6.0"
  }
 },
 "nbformat": 4,
 "nbformat_minor": 2
}
